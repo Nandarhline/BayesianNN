{
 "cells": [
  {
   "cell_type": "code",
   "execution_count": null,
   "metadata": {},
   "outputs": [],
   "source": [
    "from scipy import io\n",
    "import numpy as np\n",
    "import tensorflow as tf\n",
    "import matplotlib.pyplot as plt\n",
    "%matplotlib notebook"
   ]
  },
  {
   "cell_type": "code",
   "execution_count": null,
   "metadata": {},
   "outputs": [],
   "source": [
    "data = io.loadmat('Weights/02_PredictionModel1/Model3_IncWaveno_24M_EpochHistory.mat')\n",
    "weights_history = data['weights_history']"
   ]
  },
  {
   "cell_type": "code",
   "execution_count": null,
   "metadata": {},
   "outputs": [],
   "source": [
    "iter = len(weights_history)\n",
    "\n",
    "# Params Layers Bias\n",
    "bias_mean = np.empty([iter, 4])\n",
    "bias_std = np.empty([iter, 4])\n",
    "for i in range(iter):\n",
    "    bias_mean[i,:] = weights_history[i][14]\n",
    "    bias_std[i,:] = tf.math.softplus(weights_history[i][15])\n",
    "#     bias_std[i,:] = weights_history[i][15]\n",
    "bias_cov = bias_std/bias_mean\n",
    "\n",
    "# print(bias_mean)\n",
    "# print(bias_std)\n",
    "# print(bias_cov)\n",
    "\n",
    "cm = 1/2.54  # centimeters in inches\n",
    "plt.rcParams[\"font.family\"] = \"Times New Roman\"\n",
    "plt.rcParams[\"font.size\"] = 9\n",
    "\n",
    "\n",
    "bias_no = 1\n",
    "fig, ax = plt.subplots(1, figsize=(8*cm, 6.5*cm), sharey='row', dpi=80, facecolor='w', edgecolor='k')\n",
    "plt.subplots_adjust(left=0.18, right=.98, top=0.95, bottom=0.2, hspace = 0.65, wspace=0.15)\n",
    "ax.plot(np.arange(iter), bias_mean[:,bias_no], color='#08519c', label='Mean')\n",
    "ax.fill_between(np.arange(iter), bias_mean[:,bias_no]-1.96*bias_std[:,bias_no], bias_mean[:,bias_no]+1.96*bias_std[:,bias_no],\n",
    "                 alpha=0.2, color ='#08519c', label=r'$\\pm$ 1.96 SD')\n",
    "# ax.set_title('Output layer bias %d'%(bias_no))\n",
    "ax.legend(loc = 'lower right')\n",
    "ax.set_xlabel('Epochs') \n",
    "ax.set_ylabel('bias')\n",
    "# ax.set_ylim([-0.05, 0.45]) \n",
    "# ax.set_ylim([-2.4, 0.48]) \n",
    "# ax.set_xticks(ticks)\n",
    "# ax.set_xticklabels(labels, rotation=90)\n",
    "fig.savefig('Figures/03_PredictionModel/Bias%d.pdf'% (bias_no))\n",
    "# fig.savefig('Figures/03_PredictionModel/Bias%d.svg'% (bias_no))\n",
    "\n",
    "fig, ax = plt.subplots(2, figsize=(8*cm, 6.5*cm), sharey='row', dpi=80, facecolor='w', edgecolor='k')\n",
    "plt.subplots_adjust(left=0.18, right=.98, top=0.95, bottom=0.2, hspace = 0.15, wspace=0.15)\n",
    "ax[0].plot(np.arange(iter), bias_std[:,bias_no], color='#08519c', label='Std')\n",
    "# ax[0].legend(loc = 'upper right')\n",
    "ax[0].set_xticklabels('')\n",
    "ax[0].set_ylabel('SD(bias)')\n",
    "ax[1].plot(np.arange(iter), bias_std[:,bias_no]/abs(bias_mean[:,bias_no]), color='#08519c', label='CoV')\n",
    "ax[1].set_xlabel('Epochs')\n",
    "ax[1].set_ylabel('CoV(bias)')\n",
    "# ax[1].legend(loc = 'upper right')\n",
    "fig.savefig('Figures/03_PredictionModel/Bias%d_cov.pdf'% (bias_no))"
   ]
  },
  {
   "cell_type": "code",
   "execution_count": null,
   "metadata": {},
   "outputs": [],
   "source": []
  },
  {
   "cell_type": "code",
   "execution_count": null,
   "metadata": {},
   "outputs": [],
   "source": []
  }
 ],
 "metadata": {
  "kernelspec": {
   "display_name": "Python 3",
   "language": "python",
   "name": "python3"
  },
  "language_info": {
   "codemirror_mode": {
    "name": "ipython",
    "version": 3
   },
   "file_extension": ".py",
   "mimetype": "text/x-python",
   "name": "python",
   "nbconvert_exporter": "python",
   "pygments_lexer": "ipython3",
   "version": "3.8.3"
  }
 },
 "nbformat": 4,
 "nbformat_minor": 4
}
