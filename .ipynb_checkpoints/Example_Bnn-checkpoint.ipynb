{
 "cells": [
  {
   "cell_type": "markdown",
   "id": "2ff0bf73",
   "metadata": {},
   "source": [
    "# Example of Pbnn class with synthetic data"
   ]
  },
  {
   "cell_type": "code",
   "execution_count": null,
   "id": "8ed3ee4e",
   "metadata": {},
   "outputs": [],
   "source": [
    "from bayesian_models import Pbnn\n",
    "import tensorflow as tf\n",
    "import numpy as np\n",
    "import matplotlib.pyplot as plt"
   ]
  },
  {
   "cell_type": "markdown",
   "id": "0b175d5f",
   "metadata": {},
   "source": [
    "Create the object "
   ]
  },
  {
   "cell_type": "code",
   "execution_count": null,
   "id": "51185461",
   "metadata": {},
   "outputs": [],
   "source": [
    "# config = {\"n_infeatures\": *,\n",
    "#           \"n_outfeatures\": *,\n",
    "#           \"n_samples\": *,\n",
    "#           \"output_dist\": \"Normal\", \n",
    "#           \"learn_all_params\": True, \n",
    "#           \"fixed_param\": None} \n",
    "config = {\"n_infeatures\": 1,\n",
    "          \"n_outfeatures\": 1,\n",
    "          \"n_samples\": 300,\n",
    "          \"learn_all_params\": True,\n",
    "          \"fixed_param\": 0.3} \n",
    "\n",
    "mybnn = Pbnn(config)\n",
    "print(mybnn.n_infeatures)\n",
    "print(mybnn.n_outfeatures)\n",
    "print(mybnn.n_samples)\n",
    "print(mybnn.output_dist)\n",
    "print(mybnn.learn_all_params)\n",
    "print(mybnn.fixed_param)"
   ]
  },
  {
   "cell_type": "markdown",
   "id": "5ff92364",
   "metadata": {},
   "source": [
    "Build the network "
   ]
  },
  {
   "cell_type": "code",
   "execution_count": null,
   "id": "ca54d44e",
   "metadata": {},
   "outputs": [],
   "source": [
    "# Pbnn.build_bnn(n_hidden_layers=3, width_hidden_layers=[16,32,16])\n",
    "mybnn.build_bnn(3,[16,32,16])"
   ]
  },
  {
   "cell_type": "markdown",
   "id": "ccdcca27",
   "metadata": {},
   "source": [
    "Generate synthetic training data"
   ]
  },
  {
   "cell_type": "code",
   "execution_count": null,
   "id": "dac56f9f",
   "metadata": {},
   "outputs": [],
   "source": [
    "def f(x, sigma):\n",
    "    epsilon = np.random.randn(*x.shape) * sigma\n",
    "    return (x-5)**2 + epsilon\n",
    "train_size = 300\n",
    "\n",
    "X = np.geomspace(1, 10, train_size).reshape(-1, 1)\n",
    "Y_true = f(X, sigma=0.0)\n",
    "Y = np.zeros(X.shape)\n",
    "for i in range(len(X)):\n",
    "    x = X[i]\n",
    "    if 4<x<10:\n",
    "        Y[i] = f(x, sigma=abs(x)-4)\n",
    "    else:\n",
    "        Y[i] = f(x, sigma=0)        \n",
    "print(X.shape)"
   ]
  },
  {
   "cell_type": "markdown",
   "id": "9c5b9637",
   "metadata": {},
   "source": [
    "Train the network"
   ]
  },
  {
   "cell_type": "code",
   "execution_count": null,
   "id": "b1577ce8",
   "metadata": {},
   "outputs": [],
   "source": [
    "# Pbnn.train_bnn(X,Y,train_env)\n",
    "# X: * (n_samples, n_infeatures)\n",
    "# Y: * (n_samples, n_infeatures)\n",
    "# train_env = {\"optimizer\": optimizers.Adam,\n",
    "#              \"learning_rate\": 0.001,\n",
    "#              \"batch_size\": 64,\n",
    "#              \"epochs\": 1000,\n",
    "#              \"callback_patience\": 30, (For No callback, keep the patience the same as epochs)\n",
    "#              \"verbose\": 0}\n",
    "\n",
    "train_env = {\"batch_size\": 150,\n",
    "             \"epochs\": 10000,\n",
    "             \"callback_patience\": 10000,\n",
    "             \"verbose\": 1}\n",
    "mybnn.train_bnn(X,Y,train_env)"
   ]
  },
  {
   "cell_type": "code",
   "execution_count": null,
   "id": "fed9c3a3",
   "metadata": {},
   "outputs": [],
   "source": [
    "# Save the weights\n",
    "# import pickle\n",
    "# with open(\"test\", \"wb\") as fp:   #Pickling\n",
    "#     pickle.dump(mybnn.weights, fp)\n",
    "\n",
    "# with open(\"test\", \"rb\") as fp:   # Unpickling\n",
    "#     b = pickle.load(fp)"
   ]
  },
  {
   "cell_type": "markdown",
   "id": "c0370934",
   "metadata": {},
   "source": [
    "Test the network"
   ]
  },
  {
   "cell_type": "code",
   "execution_count": null,
   "id": "fd2e03d7",
   "metadata": {},
   "outputs": [],
   "source": [
    "# Mean_Y, Stdv_Y = Pbnn.test_bnn(Xtest, nsim=100)\n",
    "# Xtest: * (n_samples, n_infeatures)\n",
    "# nsim: 100\n",
    "# Mean_Y: Predicted value (n_samples, n_outfeatures) \n",
    "# Stdv_Y: Overall uncertainty (n_samples, n_outfeatures) \n",
    "\n",
    "Xtest = np.linspace(-5, 15, 50).reshape(-1, 1)\n",
    "Ytest = f(Xtest, sigma=0.0)\n",
    "Mean_Y, Stdv_Y = mybnn.test_bnn(Xtest)"
   ]
  },
  {
   "cell_type": "code",
   "execution_count": null,
   "id": "7df2c099",
   "metadata": {},
   "outputs": [],
   "source": [
    "cm = 1/2.54 \n",
    "fig, ax = plt.subplots(1, figsize=(17*cm, 8*cm), sharey='row', dpi=80, facecolor='w', edgecolor='k')\n",
    "plt.subplots_adjust(left=0.1, right=.98, top=0.98, bottom=0.15, hspace = 0.65, wspace=0.15)\n",
    "ax.plot(Xtest, Mean_Y , 'r-', label='Predictive mean');\n",
    "ax.scatter(X,Y, marker='+', label='Measured');\n",
    "ax.fill_between(np.squeeze(Xtest),np.squeeze(Mean_Y+1.96*Stdv_Y), np.squeeze(Mean_Y -1.96*Stdv_Y),\n",
    "                 alpha=0.5, label='95% CI (+/- 1.96std)')\n",
    "ax.legend()"
   ]
  },
  {
   "cell_type": "markdown",
   "id": "10f9746a",
   "metadata": {},
   "source": [
    "Evaluate the network"
   ]
  },
  {
   "cell_type": "code",
   "execution_count": null,
   "id": "48b55736",
   "metadata": {},
   "outputs": [],
   "source": [
    "# Mean_LL = Pbnn.test_bnn(Xtest, Ytest, nsim=100)\n",
    "# Xtest: * (n_samples, n_infeatures)\n",
    "# Ytest: * (n_samples, n_outfeatures)\n",
    "# nsim: 100\n",
    "# Mean_LL: Expected log-likelihood of the labels given the model (n_samples, n_outfeatures)  \n",
    "\n",
    "Xtest = np.linspace(-5, 15, 50).reshape(-1, 1)\n",
    "Ytest = f(Xtest, sigma=0.0)\n",
    "Mean_LL = mybnn.evaluate_bnn(Xtest, Ytest)\n",
    "print(np.mean(Mean_LL,axis=0))"
   ]
  },
  {
   "cell_type": "markdown",
   "id": "5bfe150c",
   "metadata": {},
   "source": [
    "Quantify model uncertainty"
   ]
  },
  {
   "cell_type": "code",
   "execution_count": null,
   "id": "5d1db3a7",
   "metadata": {},
   "outputs": [],
   "source": [
    "# Mean_muY, Stdv_muY, Mean_sigmaY, Stdv_sigmaY = Pbnn.model_bnn(Xtest, nsim=100)\n",
    "# Xtest: * (n_samples, n_infeatures)\n",
    "# nsim: 100\n",
    "# Mean_muY: Predicted value (n_samples, n_outfeatures) \n",
    "# Stdv_muY: Model uncertatinty (n_samples, n_outfeatures) \n",
    "# Mean_sigmaY: Aleatory uncertainty (n_samples, n_outfeatures) \n",
    "# Stdv_sigmaY: Model uncertatinty (n_samples, n_outfeatures) \n",
    "\n",
    "Mean_muY, Stdv_muY, Mean_sigmaY, Stdv_sigmaY = mybnn.modeluq_bnn(Xtest, nsim=100)\n",
    "fig, ax = plt.subplots(1, figsize=(17*cm, 8*cm), sharey='row', dpi=80, facecolor='w', edgecolor='k')\n",
    "plt.subplots_adjust(left=0.1, right=.98, top=0.98, bottom=0.15, hspace = 0.65, wspace=0.15)\n",
    "ax.plot(Xtest, Mean_muY , 'r-', label='Predictive mean');\n",
    "ax.scatter(X,Y, marker='+', label='Measured');\n",
    "ax.fill_between(np.squeeze(Xtest),np.squeeze(Mean_muY+1.96*Stdv_muY), np.squeeze(Mean_muY -1.96*Stdv_muY),\n",
    "                 alpha=0.5, label='Model uncertainty')\n",
    "ax.legend()"
   ]
  },
  {
   "cell_type": "code",
   "execution_count": null,
   "id": "c076f71b",
   "metadata": {},
   "outputs": [],
   "source": []
  }
 ],
 "metadata": {
  "hide_input": false,
  "kernelspec": {
   "display_name": "bnn",
   "language": "python",
   "name": "bnn"
  },
  "language_info": {
   "codemirror_mode": {
    "name": "ipython",
    "version": 3
   },
   "file_extension": ".py",
   "mimetype": "text/x-python",
   "name": "python",
   "nbconvert_exporter": "python",
   "pygments_lexer": "ipython3",
   "version": "3.7.4"
  },
  "toc": {
   "base_numbering": 1,
   "nav_menu": {},
   "number_sections": true,
   "sideBar": true,
   "skip_h1_title": false,
   "title_cell": "Table of Contents",
   "title_sidebar": "Contents",
   "toc_cell": false,
   "toc_position": {},
   "toc_section_display": true,
   "toc_window_display": false
  },
  "varInspector": {
   "cols": {
    "lenName": 16,
    "lenType": 16,
    "lenVar": 40
   },
   "kernels_config": {
    "python": {
     "delete_cmd_postfix": "",
     "delete_cmd_prefix": "del ",
     "library": "var_list.py",
     "varRefreshCmd": "print(var_dic_list())"
    },
    "r": {
     "delete_cmd_postfix": ") ",
     "delete_cmd_prefix": "rm(",
     "library": "var_list.r",
     "varRefreshCmd": "cat(var_dic_list()) "
    }
   },
   "types_to_exclude": [
    "module",
    "function",
    "builtin_function_or_method",
    "instance",
    "_Feature"
   ],
   "window_display": false
  }
 },
 "nbformat": 4,
 "nbformat_minor": 5
}
