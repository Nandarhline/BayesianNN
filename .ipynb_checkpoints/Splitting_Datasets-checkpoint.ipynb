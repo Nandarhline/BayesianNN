{
 "cells": [
  {
   "cell_type": "code",
   "execution_count": null,
   "metadata": {},
   "outputs": [],
   "source": [
    "import pandas as pd\n",
    "from os import walk\n",
    "from sklearn import model_selection, preprocessing\n",
    "import pickle"
   ]
  },
  {
   "cell_type": "code",
   "execution_count": null,
   "metadata": {},
   "outputs": [],
   "source": [
    "# Choose location for SCADA and Acceleration data\n",
    "loc = 'bbk05' # location\n",
    "\n",
    "# Laod wave data \n",
    "#path = r'D:\\OneDrive\\PhD_ULIEGE\\03_PhD_Year3\\05_VUB\\Westhinder20180101_20190630'\n",
    "path = 'DATA/Westhinder20180101_20191231'\n",
    "filenames = next(walk(path), (None, None, []))[2]  \n",
    "li = []\n",
    "for f in filenames:\n",
    "    df = pd.read_csv('\\\\'.join([path,f]), delimiter = \"\\t\")\n",
    "    df.rename(columns = {df.columns[0]:'timestamp'}, inplace = True)\n",
    "    df['timestamp'] = pd.to_datetime(df['timestamp'], format='%Y-%m-%dT%H:%M:%S%z')\n",
    "    df.set_index('timestamp',inplace=True)\n",
    "    li.append(df)\n",
    "df_wave_nw = pd.concat(li, join='inner', axis=1)\n",
    "# Resampling from 30 min to 10 min\n",
    "df_wave_nw = df_wave_nw.resample('10min').mean().interpolate()\n",
    "\n",
    "# Load SCADA (depends on location)\n",
    "df = pd.read_pickle('DATA/'+loc)\n",
    "\n",
    "# Load Acceleration and join with SCADA \n",
    "df_acc = pd.read_pickle('DATA/'+loc+'_acc')\n",
    "# remove the column with location (cannot have overlapped columns with the joining one)\n",
    "df_acc = df_acc.drop(columns=\"location\")\n",
    "df = df_acc.join(df)\n",
    "\n",
    "# Join SCADA(+Acceleration) and wave data\n",
    "df = df_wave_nw.join(df)\n",
    "df = df.drop(columns=\"location\")\n",
    "# print(df.columns)\n",
    "\n",
    "# remove invalid data\n",
    "df = df.dropna(how='any',axis=0)\n",
    "nsamp = len(df)\n",
    "print(nsamp)\n"
   ]
  },
  {
   "cell_type": "code",
   "execution_count": null,
   "metadata": {},
   "outputs": [],
   "source": [
    "# Save the normalizer, only for the fleet-leader\n",
    "if loc=='bbg10': \n",
    "    Input = df.iloc[:,0:-2]  # The last two columns are DEMs\n",
    "    std_scaler = preprocessing.StandardScaler().fit(Input)\n",
    "    # Save the data normalizer\n",
    "    object = std_scaler\n",
    "    filehandler = open('Weights/Norm', 'wb') \n",
    "    pickle.dump(object, filehandler)\n",
    "    filehandler.close() "
   ]
  },
  {
   "cell_type": "code",
   "execution_count": null,
   "metadata": {},
   "outputs": [],
   "source": [
    "# For extrapolated turbines, save input/output files for test\n",
    "index = df.columns\n",
    "df_input = df[index[0:-2]]\n",
    "df_output = df[index[-2:]]\n",
    "df_input.to_pickle('DATA/'+loc+'df_input')\n",
    "df_output.to_pickle('DATA/'+loc+'df_output')\n",
    "\n",
    "# For fleet-leader, split input/output files for train and test and save as separate files\n",
    "if loc=='bbg10':\n",
    "    index = df.columns\n",
    "    df_input = df[index[0:-2]]\n",
    "    df_output = df[index[-2:]]\n",
    "    train_input, test_input, train_output, test_output = model_selection.train_test_split(df_input, df_output,\n",
    "                                                                                      test_size=0.25, shuffle=True)\n",
    "    train_input = train_input.sort_index()\n",
    "    train_output = train_output.sort_index()\n",
    "    test_input = test_input.sort_index()\n",
    "    test_output = test_output.sort_index()\n",
    "    \n",
    "    train_input.to_pickle('DATA/'+'train_input')\n",
    "    train_output.to_pickle('DATA/'+'train_output')\n",
    "    test_input.to_pickle('DATA/'+'test_input')\n",
    "    test_output.to_pickle('DATA/'+'test_output')"
   ]
  },
  {
   "cell_type": "code",
   "execution_count": null,
   "metadata": {},
   "outputs": [],
   "source": [
    "\n",
    "\n"
   ]
  }
 ],
 "metadata": {
  "kernelspec": {
   "display_name": "Python 3",
   "language": "python",
   "name": "python3"
  },
  "language_info": {
   "codemirror_mode": {
    "name": "ipython",
    "version": 3
   },
   "file_extension": ".py",
   "mimetype": "text/x-python",
   "name": "python",
   "nbconvert_exporter": "python",
   "pygments_lexer": "ipython3",
   "version": "3.8.3"
  }
 },
 "nbformat": 4,
 "nbformat_minor": 4
}
