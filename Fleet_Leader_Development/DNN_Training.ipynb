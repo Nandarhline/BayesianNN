{
 "cells": [
  {
   "cell_type": "code",
   "execution_count": null,
   "metadata": {},
   "outputs": [],
   "source": [
    "import matplotlib.pyplot as plt\n",
    "%matplotlib notebook\n",
    "import pandas as pd\n",
    "from os import walk\n",
    "import numpy as np\n",
    "from sklearn import preprocessing\n",
    "import tensorflow as tf\n",
    "from tensorflow.keras import optimizers, losses, metrics\n",
    "from tensorflow.keras.models import Sequential, load_model\n",
    "from tensorflow.keras.layers import Dense\n",
    "import pickle"
   ]
  },
  {
   "cell_type": "markdown",
   "metadata": {},
   "source": [
    "Loading the dataset and normalizing"
   ]
  },
  {
   "cell_type": "code",
   "execution_count": null,
   "metadata": {},
   "outputs": [],
   "source": [
    "# Choose location for SCADA and Acceleration data\n",
    "loc = 'turbine' # location\n",
    "modelID = 1\n",
    "# (0 for SCADA only, 1 for SCADA+Acc17, 2 for SCADA+Acc38, 3 for SCADA+Acc77, \n",
    "# 4 for SCADA+Acc17&38, 5 for SCADA+Acc17&38&77 \n",
    "include_wave = 'yes'\n",
    "duration = '24M'\n",
    "\n",
    "durations = ['3M','6M','9M','12M','15M','18M','21M','24M']\n",
    "train_end_dates = ['2018-03-31 23:50:00+00:00', '2018-06-30 23:50:00+00:00', '2018-09-30 23:50:00+00:00', \n",
    "                  '2018-12-31 23:50:00+00:00', '2019-03-31 23:50:00+00:00', '2019-06-30 23:50:00+00:00',\n",
    "                  '2019-09-30 23:50:00+00:00', '2019-12-31 23:50:00+00:00']\n",
    "train_end_date = train_end_dates[durations.index(duration)]\n",
    "\n",
    "# Laod train data \n",
    "train_input = pd.read_pickle('DATA/train_input')\n",
    "train_output = pd.read_pickle('DATA/train_output')\n",
    "index = train_input.columns\n",
    "\n",
    "train_input = train_input.loc['2018-01-01 00:00:00+00:00':train_end_date]\n",
    "train_output= train_output.loc['2018-01-01 00:00:00+00:00':train_end_date]\n",
    "# print(train_input.shape)\n",
    "\n",
    "# Normlaization of input data\n",
    "# Data normalization according to training dataset/ model\n",
    "filehandler = open('Weights/Norm', 'rb') \n",
    "std_scaler = pickle.load(filehandler)\n",
    "inputn = pd.DataFrame(std_scaler.transform(train_input), columns=train_input.columns) \n",
    "# inputn is still a daraframe with numeric index\n",
    "outputn = train_output/10**6  #  change of units, outputn is still a daraframe with time index"
   ]
  },
  {
   "cell_type": "markdown",
   "metadata": {},
   "source": [
    "Retrive features based on the modelID"
   ]
  },
  {
   "cell_type": "code",
   "execution_count": null,
   "metadata": {},
   "outputs": [],
   "source": [
    "index1 = pd.core.indexes.base.Index([]) # create a blank index array\n",
    "if include_wave == 'yes': \n",
    "    index1 = index1.append(index[0:3])\n",
    "if modelID == 1: # Acc17\n",
    "    index1 = index1.append(index[[3,4,9,10,15,16]])\n",
    "if modelID == 2: # Acc38\n",
    "    index1 = index1.append(index[[5,6,11,12,17,18]])\n",
    "if modelID == 3: # Acc77\n",
    "    index1 = index1.append(index[[7,8,13,14,19,20]])\n",
    "if modelID == 4: # Acc17&38\n",
    "    index1 = index1.append(index[[3,4,5,6,9,10,11,12,15,16,17,18]])   \n",
    "if modelID == 5: # Acc17&38&77\n",
    "    index1 = index1.append(index[3:21])\n",
    "\n",
    "index1 = index1.append(index[21:]) # SCADA\n",
    "X = inputn[index1].values\n",
    "Y = outputn.values\n",
    "print(X.shape)\n",
    "print(Y.shape)"
   ]
  },
  {
   "cell_type": "markdown",
   "metadata": {},
   "source": [
    "NN architecture and compiling"
   ]
  },
  {
   "cell_type": "code",
   "execution_count": null,
   "metadata": {},
   "outputs": [],
   "source": [
    "in_dim = X.shape[1]\n",
    "out_dim = Y.shape[1]\n",
    "VSnet = Sequential()\n",
    "VSnet.add(Dense(64, input_dim=in_dim, activation=\"relu\"))\n",
    "VSnet.add(Dense(128, activation=\"relu\"))\n",
    "VSnet.add(Dense(64, activation=\"relu\"))\n",
    "VSnet.add(Dense(out_dim, activation=\"relu\"))\n",
    "\n",
    "loss = losses.mean_absolute_error\n",
    "optimizer = optimizers.Adamax(learning_rate = 0.001)\n",
    "VSnet.compile(loss = loss, optimizer = optimizer)\n",
    " \n",
    "VSnet.summary()"
   ]
  },
  {
   "cell_type": "markdown",
   "metadata": {},
   "source": [
    "Training and saving the network"
   ]
  },
  {
   "cell_type": "code",
   "execution_count": null,
   "metadata": {},
   "outputs": [],
   "source": [
    "callback = tf.keras.callbacks.EarlyStopping(monitor='val_loss', min_delta=0, patience=10, verbose=1,\n",
    "    mode='auto', baseline=None, restore_best_weights=True)\n",
    "history = VSnet.fit(X, Y, validation_split=0.2, epochs=200, batch_size=32, verbose=1, callbacks = callback)\n",
    "print(history.history.keys())\n",
    "\n",
    "VSnet.save('Weights/01_SensorPlacementTest/DNNModel%s_IncWave%s.h5' % (modelID, include_wave)) # For sensor Placement"
   ]
  },
  {
   "cell_type": "code",
   "execution_count": null,
   "metadata": {},
   "outputs": [],
   "source": [
    "cm = 1/2.54  # centimeters in inches\n",
    "plt.rcParams[\"font.family\"] = \"Times New Roman\"\n",
    "plt.rcParams[\"font.size\"] = 9\n",
    "nn_output = VSnet.predict(X)\n",
    "\n",
    "fig, ax = plt.subplots(1, figsize=(17*cm, 9*cm), sharey='row', dpi=80, facecolor='w', edgecolor='k')\n",
    "plt.subplots_adjust(left=0.2, right=.98, top=0.98, bottom=0.18, hspace = 0.65, wspace=0.15)\n",
    "ax.plot(Y[0:600,-1], linewidth=0.3)\n",
    "ax.plot(nn_output[0:600,-1], linewidth=0.3)\n",
    "fig, ax = plt.subplots(1, figsize=(17*cm, 9*cm), sharey='row', dpi=80, facecolor='w', edgecolor='k')\n",
    "plt.subplots_adjust(left=0.2, right=.98, top=0.98, bottom=0.18, hspace = 0.65, wspace=0.15)\n",
    "ax.plot(Y[0:600,-2], linewidth=0.3)\n",
    "ax.plot(nn_output[0:600,-2], linewidth=0.3)\n",
    "\n",
    "MAE = metrics.mean_absolute_error(Y, nn_output)\n",
    "print(MAE)"
   ]
  }
 ],
 "metadata": {
  "kernelspec": {
   "display_name": "Python 3",
   "language": "python",
   "name": "python3"
  },
  "language_info": {
   "codemirror_mode": {
    "name": "ipython",
    "version": 3
   },
   "file_extension": ".py",
   "mimetype": "text/x-python",
   "name": "python",
   "nbconvert_exporter": "python",
   "pygments_lexer": "ipython3",
   "version": "3.8.3"
  }
 },
 "nbformat": 4,
 "nbformat_minor": 4
}
