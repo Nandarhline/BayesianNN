{
 "cells": [
  {
   "cell_type": "code",
   "execution_count": null,
   "metadata": {},
   "outputs": [],
   "source": [
    "import pandas as pd\n",
    "import numpy as np\n",
    "import matplotlib.pyplot as plt\n",
    "import matplotlib.patches as ptch\n",
    "%matplotlib notebook\n",
    "from os import walk\n",
    "import tensorflow as tf\n",
    "from tensorflow.keras.models import load_model\n",
    "from tensorflow.keras import metrics\n",
    "import pickle"
   ]
  },
  {
   "cell_type": "markdown",
   "metadata": {},
   "source": [
    "Loading the dataset and normalizing"
   ]
  },
  {
   "cell_type": "code",
   "execution_count": null,
   "metadata": {},
   "outputs": [],
   "source": [
    "# Laod  data \n",
    "test_input = pd.read_pickle('DATA/test_input')\n",
    "test_output = pd.read_pickle('DATA/test_output')\n",
    "index = test_input.columns\n",
    "\n",
    "# Normlaization of input data\n",
    "# Data normalization according to training dataset/ model\n",
    "filehandler = open('Weights/Norm', 'rb') \n",
    "std_scaler = pickle.load(filehandler)\n",
    "inputn = pd.DataFrame(std_scaler.transform(test_input), columns=test_input.columns) \n",
    "# inputn is still a daraframe with numeric index\n",
    "outputn = test_output/10**6  #  change of units, outputn is still a daraframe with time index"
   ]
  },
  {
   "cell_type": "markdown",
   "metadata": {},
   "source": [
    "Define the models to be tested"
   ]
  },
  {
   "cell_type": "code",
   "execution_count": null,
   "metadata": {},
   "outputs": [],
   "source": [
    "include_wave = 'no'\n",
    "modelIDs = [0, 1, 2, 3, 4, 5]\n",
    "# modelIDs = [3]\n",
    "# (0 for SCADA only, 1 for SCADA+Acc17, 2 for SCADA+Acc38, 3 for SCADA+Acc77, \n",
    "# 4 for SCADA+Acc17&38, 5 for SCADA+Acc17&38&77 \n",
    "\n",
    "Err_Mtl1 = np.zeros([len(modelIDs)])\n",
    "Err_Mtn1 = np.zeros([len(modelIDs)])\n",
    "for i in range(len(modelIDs)):\n",
    "    modelID = modelIDs[i]\n",
    "    \n",
    "    # Retrive features based on the modelID\n",
    "    index1 = pd.core.indexes.base.Index([]) # create a blank index array\n",
    "    if include_wave == 'yes': \n",
    "        index1 = index1.append(index[0:3])\n",
    "    if modelID == 1: # Acc17\n",
    "        index1 = index1.append(index[[3,4,9,10,15,16]])\n",
    "    if modelID == 2: # Acc38\n",
    "        index1 = index1.append(index[[5,6,11,12,17,18]])\n",
    "    if modelID == 3: # Acc77\n",
    "        index1 = index1.append(index[[7,8,13,14,19,20]])\n",
    "    if modelID == 4: # Acc17&38\n",
    "        index1 = index1.append(index[[3,4,5,6,9,10,11,12,15,16,17,18]])   \n",
    "    if modelID == 5: # Acc17&38&77\n",
    "        index1 = index1.append(index[3:21])\n",
    "    index1 = index1.append(index[21:]) # SCADA\n",
    "    X = inputn[index1].values\n",
    "    Y = outputn.values\n",
    "    \n",
    "    # Loading the model to evaluate\n",
    "    VSnet = load_model('Weights/01_SensorPlacementTest/DNNModel%s_IncWave%s.h5' % (modelID, include_wave))\n",
    "    \n",
    "    # Prediction and Compute Error\n",
    "    nn_output = VSnet.predict(X)\n",
    "    Err_Mtl1[i] = np.mean(abs((Y[:,0]- nn_output[:,0])/Y[:,0]))*100\n",
    "    Err_Mtn1[i] = np.mean(abs((Y[:,1]- nn_output[:,1])/Y[:,1]))*100   "
   ]
  },
  {
   "cell_type": "code",
   "execution_count": null,
   "metadata": {},
   "outputs": [],
   "source": [
    "print(Err_Mtl1)\n",
    "print(Err_Mtn1)"
   ]
  },
  {
   "cell_type": "code",
   "execution_count": null,
   "metadata": {},
   "outputs": [],
   "source": [
    "include_wave = 'yes'\n",
    "modelIDs = [0, 1, 2, 3, 4, 5]\n",
    "# modelIDs = [3]\n",
    "# (0 for SCADA only, 1 for SCADA+Acc17, 2 for SCADA+Acc38, 3 for SCADA+Acc77, \n",
    "# 4 for SCADA+Acc17&38, 5 for SCADA+Acc17&38&77 \n",
    "\n",
    "Err_Mtl2 = np.zeros([len(modelIDs)])\n",
    "Err_Mtn2 = np.zeros([len(modelIDs)])\n",
    "for i in range(len(modelIDs)):\n",
    "    modelID = modelIDs[i]\n",
    "    \n",
    "    # Retrive features based on the modelID\n",
    "    index1 = pd.core.indexes.base.Index([]) # create a blank index array\n",
    "    if include_wave == 'yes': \n",
    "        index1 = index1.append(index[0:3])\n",
    "    if modelID == 1: # Acc17\n",
    "        index1 = index1.append(index[[3,4,9,10,15,16]])\n",
    "    if modelID == 2: # Acc38\n",
    "        index1 = index1.append(index[[5,6,11,12,17,18]])\n",
    "    if modelID == 3: # Acc77\n",
    "        index1 = index1.append(index[[7,8,13,14,19,20]])\n",
    "    if modelID == 4: # Acc17&38\n",
    "        index1 = index1.append(index[[3,4,5,6,9,10,11,12,15,16,17,18]])   \n",
    "    if modelID == 5: # Acc17&38&77\n",
    "        index1 = index1.append(index[3:21])\n",
    "    index1 = index1.append(index[21:]) # SCADA\n",
    "    X = inputn[index1].values\n",
    "    Y = outputn.values\n",
    "    \n",
    "    # Loading the model to evaluate\n",
    "    VSnet = load_model('Weights/01_SensorPlacementTest/DNNModel%s_IncWave%s.h5' % (modelID, include_wave))\n",
    "    \n",
    "    # Prediction and Compute Error\n",
    "    nn_output = VSnet.predict(X)\n",
    "    Err_Mtl2[i] = np.mean(abs((Y[:,0]- nn_output[:,0])/Y[:,0]))*100\n",
    "    Err_Mtn2[i] = np.mean(abs((Y[:,1]- nn_output[:,1])/Y[:,1]))*100   "
   ]
  },
  {
   "cell_type": "code",
   "execution_count": null,
   "metadata": {},
   "outputs": [],
   "source": [
    "Models2 = ['SCADA+Wave', 'SCADA+Wave+Acc017', 'SCADA+Wave+Acc038', 'SCADA+Wave+Acc077', \n",
    "              'SCADA+Wave+Acc017,038', 'SCADA+Wave+Acc017,038,077']\n",
    "Models1 = ['SCADA', 'SCADA+Acc017', 'SCADA+Acc038', 'SCADA+Acc077', \n",
    "              'SCADA+Acc017,038', 'SCADA+Acc017,038,077']\n",
    "\n",
    "cm = 1/2.54  # centimeters in inches\n",
    "plt.rcParams[\"font.family\"] = \"Times New Roman\"\n",
    "plt.rcParams[\"font.size\"] = 9\n",
    "\n",
    "x1 = np.arange(6)*3+0.5\n",
    "x2 = np.arange(6)*3+1.0\n",
    "x3 = np.arange(6)*3+1.65\n",
    "x4 = np.arange(6)*3+2.15\n",
    "fig, ax = plt.subplots(1, figsize=(17*cm, 8.5*cm), sharey='row', dpi=80, facecolor='w', edgecolor='k')\n",
    "plt.subplots_adjust(left=0.07, right=.99, top=0.95, bottom=0.4, hspace = 0.65, wspace=0.15)\n",
    "# ax.bar(x1, Err_Mtl1, color = '#6baed6', width=0.5, align='center', label = \"DEM$_{tl}$ (Without Wave)\")\n",
    "# ax.bar(x2, Err_Mtn1,  color = '#08306b', width=0.5, align='center', label = \"DEM$_{tn}$ (With Wave)\")\n",
    "# ax.bar(x3, Err_Mtl2, color = '#bdbdbd', width=0.5, align='center', label = \"DEM$_{tl}$ (Without Wave)\")\n",
    "# ax.bar(x4, Err_Mtn2,  color = '#525252', width=0.5, align='center', label = \"DEM$_{tn}$ (With Wave)\")\n",
    "ax.bar(x1, Err_Mtl1, color = '#6baed6', width=0.5, align='center', label = \"DEM$_{tl}$\")\n",
    "ax.bar(x2, Err_Mtn1,  color = '#08306b', width=0.5, align='center', label = \"DEM$_{tn}$\")\n",
    "ax.bar(x3, Err_Mtl2, color = '#6baed6', width=0.5, align='center')\n",
    "ax.bar(x4, Err_Mtn2,  color = '#08306b', width=0.5, align='center')\n",
    "ax.set_ylabel('Test error (%)')\n",
    "ax.set_xticks(np.concatenate((x1+0.25, x3+0.25))) \n",
    "ax.set_xticklabels(np.concatenate((Models1, Models2)) ,horizontalalignment= 'right', rotation=45)\n",
    "ax.set_ylim([0, 28])\n",
    "def add_value_label(x_list,y_list):\n",
    "    for i in range(1, len(x_list)+1):\n",
    "        plt.text(x_list[i-1],y_list[i-1]+0.5,y_list[i-1], ha=\"center\", fontsize = 8)\n",
    "\n",
    "add_value_label(x1,np.around(Err_Mtl1,1))\n",
    "add_value_label(x2,np.around(Err_Mtn1,1))\n",
    "add_value_label(x3,np.around(Err_Mtl2,1))\n",
    "add_value_label(x4,np.around(Err_Mtn2,1))\n",
    "\n",
    "ax.add_patch(ptch.Rectangle((9.15,0),1.2,10, \n",
    "                        fill=False,\n",
    "                        color=\"#a50f15\",\n",
    "                       linewidth=2))\n",
    "\n",
    "ax.legend(loc =\"upper right\", fontsize=9, ncol=3)\n",
    "# plt.grid(axis='y', color='0.95')\n",
    "fig.savefig('Figures/01_SensorPlacementTest/DNNErrors_merge.pdf')"
   ]
  },
  {
   "cell_type": "code",
   "execution_count": null,
   "metadata": {},
   "outputs": [],
   "source": []
  }
 ],
 "metadata": {
  "kernelspec": {
   "display_name": "Python 3",
   "language": "python",
   "name": "python3"
  },
  "language_info": {
   "codemirror_mode": {
    "name": "ipython",
    "version": 3
   },
   "file_extension": ".py",
   "mimetype": "text/x-python",
   "name": "python",
   "nbconvert_exporter": "python",
   "pygments_lexer": "ipython3",
   "version": "3.8.3"
  }
 },
 "nbformat": 4,
 "nbformat_minor": 4
}
